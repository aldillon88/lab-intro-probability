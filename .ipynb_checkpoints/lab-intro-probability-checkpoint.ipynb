{
 "cells": [
  {
   "cell_type": "markdown",
   "metadata": {},
   "source": [
    "# Lab | Intro to Probability"
   ]
  },
  {
   "cell_type": "markdown",
   "metadata": {},
   "source": [
    "**Objective**\n",
    "\n",
    "Welcome to this Intro to Probability lab, where we explore decision-making scenarios through the lens of probability and strategic analysis. In the business world, making informed decisions is crucial, especially when faced with uncertainties. This lab focuses on scenarios where probabilistic outcomes play a significant role in shaping strategies and outcomes. Students will engage in exercises that require assessing and choosing optimal paths based on data-driven insights. The goal is to enhance your skills by applying probability concepts to solve real-world problems."
   ]
  },
  {
   "cell_type": "markdown",
   "metadata": {},
   "source": [
    "**Challenge 1**"
   ]
  },
  {
   "cell_type": "markdown",
   "metadata": {},
   "source": [
    "#### Ironhack Airlines \n",
    "\n",
    "Often Airlines sell more tickets than they have seats available, this is called overbooking. Consider the following:\n",
    "- A plane has 450 seats. \n",
    "- Based on historical data we conclude that each individual passenger has a 3% chance of missing it's flight. \n",
    "\n",
    "If the Ironhack Airlines routinely sells 460 tickets, what is the chance that they have a seats for all passenger?"
   ]
  },
  {
   "cell_type": "code",
   "execution_count": 4,
   "metadata": {},
   "outputs": [
    {
     "name": "stdout",
     "output_type": "stream",
     "text": [
      "The probability that there are enough seats for all passengers is 0.8845\n"
     ]
    }
   ],
   "source": [
    "import scipy.stats as stats\n",
    "\n",
    "# Define the parameters\n",
    "n = 460       # number of trials (tickets sold)\n",
    "p = 0.97      # probability of success (passenger shows up)\n",
    "k = 450       # maximum number of seats available\n",
    "\n",
    "# Calculate the cumulative probability\n",
    "probability = stats.binom.cdf(k, n, p)\n",
    "\n",
    "print(f\"The probability that there are enough seats for all passengers is {probability:.4f}\")"
   ]
  },
  {
   "cell_type": "markdown",
   "metadata": {},
   "source": [
    "**Challenge 2**"
   ]
  },
  {
   "cell_type": "markdown",
   "metadata": {},
   "source": [
    "#### Ironhack Call Center "
   ]
  },
  {
   "cell_type": "markdown",
   "metadata": {},
   "source": [
    "Suppose a customer service representative at a call center is handling customer complaints. Consider the following:\n",
    "- The probability of successfully resolving a customer complaint on the first attempt is 0.3. \n",
    "\n",
    "\n",
    "What is the probability that the representative needs to make at least three attempts before successfully resolving a customer complaint?"
   ]
  },
  {
   "cell_type": "code",
   "execution_count": 10,
   "metadata": {},
   "outputs": [
    {
     "name": "stdout",
     "output_type": "stream",
     "text": [
      "The probability that at least three attempts are needed is 0.4900\n"
     ]
    }
   ],
   "source": [
    "from scipy.stats import geom\n",
    "\n",
    "# Probability of success on each trial\n",
    "p = 0.3\n",
    "\n",
    "# Calculate the cumulative probability that the first success occurs within the first 2 trials\n",
    "cdf_up_to_2 = stats.geom.cdf(2, p)\n",
    "\n",
    "# Probability that at least 3 attempts are needed\n",
    "p_at_least_3 = 1 - cdf_up_to_2\n",
    "\n",
    "print(f\"The probability that at least three attempts are needed is {p_at_least_3:.4f}\")"
   ]
  },
  {
   "cell_type": "markdown",
   "metadata": {},
   "source": [
    "**Challenge 3**"
   ]
  },
  {
   "cell_type": "markdown",
   "metadata": {},
   "source": [
    "#### Ironhack Website"
   ]
  },
  {
   "cell_type": "markdown",
   "metadata": {},
   "source": [
    "Consider a scenario related to Ironhack website traffic. Where:\n",
    "- our website takes on average 500 visits per hour.\n",
    "- the website's server is designed to handle up to 550 vists per hour.\n",
    "\n",
    "\n",
    "What is the probability of the website server being overwhelmed?"
   ]
  },
  {
   "cell_type": "code",
   "execution_count": 9,
   "metadata": {},
   "outputs": [
    {
     "name": "stdout",
     "output_type": "stream",
     "text": [
      "The probability that the server is overwhelmed is 0.0129\n"
     ]
    }
   ],
   "source": [
    "from scipy.stats import poisson\n",
    "\n",
    "# Average number of visits per hour\n",
    "mu = 500\n",
    "\n",
    "# Calculate the cumulative probability for 550 or fewer visits\n",
    "cdf_550 = poisson.cdf(550, mu)\n",
    "\n",
    "# Probability of more than 550 visits\n",
    "prob_overwhelmed = 1 - cdf_550\n",
    "\n",
    "print(f\"The probability that the server is overwhelmed is {prob_overwhelmed:.4f}\")"
   ]
  },
  {
   "cell_type": "markdown",
   "metadata": {},
   "source": [
    "What is the probability of being overwhelmed at some point during a day? (consider 24hours)"
   ]
  },
  {
   "cell_type": "code",
   "execution_count": 11,
   "metadata": {},
   "outputs": [
    {
     "name": "stdout",
     "output_type": "stream",
     "text": [
      "The probability of being overwhelmed at some point during the day is 1.0000\n"
     ]
    }
   ],
   "source": [
    "# Probability of not being overwhelmed in a day (24 hours)\n",
    "prob_not_overwhelmed_day = (1 - cdf_550)**24\n",
    "\n",
    "# Probability of being overwhelmed at some point during the day\n",
    "prob_overwhelmed_day = 1 - prob_not_overwhelmed_day\n",
    "\n",
    "print(f\"The probability of being overwhelmed at some point during the day is {prob_overwhelmed_day:.4f}\")"
   ]
  },
  {
   "cell_type": "markdown",
   "metadata": {},
   "source": [
    "**Challenge 4**"
   ]
  },
  {
   "cell_type": "markdown",
   "metadata": {},
   "source": [
    "#### Ironhack Helpdesk"
   ]
  },
  {
   "cell_type": "markdown",
   "metadata": {},
   "source": [
    "Consider a scenario related to the time between arrivals of customers at a service desk.\n",
    "\n",
    "On average, a customers arrives every 10minutes.\n",
    "\n",
    "What is the probability that the next customer will arrive within the next 5 minutes?"
   ]
  },
  {
   "cell_type": "code",
   "execution_count": 12,
   "metadata": {},
   "outputs": [
    {
     "name": "stdout",
     "output_type": "stream",
     "text": [
      "The probability that the next customer will arrive within the next 5 minutes is 0.3935\n"
     ]
    }
   ],
   "source": [
    "from scipy.stats import expon\n",
    "\n",
    "# Rate of events (customers arriving) per minute\n",
    "lambda_value = 0.1\n",
    "\n",
    "# Create an exponential distribution object with the specified rate parameter\n",
    "exp_distribution = expon(scale=1/lambda_value)\n",
    "\n",
    "# Calculate the cumulative probability that the next customer arrives within 5 minutes\n",
    "probability_within_5_minutes = exp_distribution.cdf(5)\n",
    "\n",
    "print(f\"The probability that the next customer will arrive within the next 5 minutes is {probability_within_5_minutes:.4f}\")"
   ]
  },
  {
   "cell_type": "markdown",
   "metadata": {},
   "source": [
    "If there is no customer for 15minutes, employees can take a 5-minute break.\n",
    "\n",
    "What is the probability an employee taking a break?"
   ]
  },
  {
   "cell_type": "code",
   "execution_count": 14,
   "metadata": {},
   "outputs": [
    {
     "name": "stdout",
     "output_type": "stream",
     "text": [
      "The probability that an employee takes a break is 0.2231\n"
     ]
    }
   ],
   "source": [
    "# Rate of events (customers arriving) per minute\n",
    "lambda_value = 1/10\n",
    "\n",
    "# Create an exponential distribution object with the specified rate parameter\n",
    "exp_distribution = expon(scale=1/lambda_value)\n",
    "\n",
    "# Calculate the probability of no customer arrival within 15 minutes (employee takes a break)\n",
    "probability_no_customer_within_15_minutes = 1 - exp_distribution.cdf(15)\n",
    "\n",
    "print(f\"The probability that an employee takes a break is {probability_no_customer_within_15_minutes:.4f}\")"
   ]
  },
  {
   "cell_type": "markdown",
   "metadata": {},
   "source": [
    "**Challenge 5**"
   ]
  },
  {
   "cell_type": "markdown",
   "metadata": {},
   "source": [
    "The weights of a certain species of birds follow a normal distribution with a mean weight of 150 grams and a standard deviation of 10 grams. \n",
    "\n",
    "- If we randomly select a bird, what is the probability that its weight is between 140 and 160 grams?"
   ]
  },
  {
   "cell_type": "code",
   "execution_count": 21,
   "metadata": {},
   "outputs": [
    {
     "name": "stdout",
     "output_type": "stream",
     "text": [
      "The probability of the bird's weight being between 140 grams and 160 grams is 0.6826894921370859\n"
     ]
    }
   ],
   "source": [
    "from scipy.stats import norm\n",
    "\n",
    "mean = 150\n",
    "std = 10\n",
    "\n",
    "# Create a normal distribution object with the specified mean and standard deviation\n",
    "norm_dist = norm(loc = mean, scale = std)\n",
    "\n",
    "# Calculate the cumulative probability of the bird's weight being less than or equal to 160 grams\n",
    "prob_less_than_160 = norm_dist.cdf(160)\n",
    "\n",
    "# Calculate the cumulative probability of the bird's weight being less than or equal to 140 grams\n",
    "prob_less_than_140 = norm_dist.cdf(140)\n",
    "\n",
    "# The probability of the bird's weight being between 140 and 160 grams\n",
    "prob_between_140_and_160 = prob_less_than_160 - prob_less_than_140\n",
    "\n",
    "print(f\"The probability of the bird's weight being between 140 grams and 160 grams is {prob_between_140_and_160}\")"
   ]
  },
  {
   "cell_type": "markdown",
   "metadata": {},
   "source": [
    "**Challenge 6**"
   ]
  },
  {
   "cell_type": "markdown",
   "metadata": {},
   "source": [
    "If the lifetime (in hours) of a certain electronic component follows an exponential distribution with a mean lifetime of 50 hours, what is the probability that the component fails within the first 30 hours?"
   ]
  },
  {
   "cell_type": "code",
   "execution_count": 22,
   "metadata": {},
   "outputs": [
    {
     "name": "stdout",
     "output_type": "stream",
     "text": [
      "The probability that the component fails within the first 30 hours is 0.4512\n"
     ]
    }
   ],
   "source": [
    "# Mean lifetime\n",
    "mean_lifetime = 50\n",
    "\n",
    "# Rate parameter (lambda)\n",
    "lambda_value = 1 / mean_lifetime\n",
    "\n",
    "# Create an exponential distribution object with the specified rate parameter\n",
    "exp_dist = expon(scale=1/lambda_value)\n",
    "\n",
    "# Calculate the cumulative probability that the component fails within the first 30 hours\n",
    "prob_fail_within_30_hours = exp_dist.cdf(30)\n",
    "\n",
    "print(f\"The probability that the component fails within the first 30 hours is {prob_fail_within_30_hours:.4f}\")"
   ]
  }
 ],
 "metadata": {
  "kernelspec": {
   "display_name": "Python 3 (ipykernel)",
   "language": "python",
   "name": "python3"
  },
  "language_info": {
   "codemirror_mode": {
    "name": "ipython",
    "version": 3
   },
   "file_extension": ".py",
   "mimetype": "text/x-python",
   "name": "python",
   "nbconvert_exporter": "python",
   "pygments_lexer": "ipython3",
   "version": "3.11.7"
  }
 },
 "nbformat": 4,
 "nbformat_minor": 4
}
